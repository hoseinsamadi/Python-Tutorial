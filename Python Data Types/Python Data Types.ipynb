{
 "cells": [
  {
   "attachments": {},
   "cell_type": "markdown",
   "metadata": {},
   "source": [
    "# Setting the Data Type\n",
    "\n",
    "In Python, the data type is set when you assign a value to a variable:\n",
    "Example \tData Type \tTry it\n",
    "### x = \"Hello World\"                           <span style=\"color:red\">str</span>   \t   \t\n",
    "### x = 20 \t                                         <span style=\"color:red\">int</span>   \t\n",
    "### x = 20.5                        \t          <span style=\"color:red\">float</span>    \t\n",
    "### x = 1j \t                                      <span style=\"color:red\">complex</span>    \t\n",
    "### x = [\"apple\", \"banana\", \"cherry\"]            <span style=\"color:red\">list</span>\t   \t\n",
    "### x = (\"apple\", \"banana\", \"cherry\")              <span style=\"color:red\">tuple</span>     \t\n",
    "### x = range(6)                                \t <span style=\"color:red\">range</span>   \t\n",
    "### x = {\"name\" : \"John\", \"age\" : 36} \t           <span style=\"color:red\">dict</span>     \t\n",
    "### x = {\"apple\", \"banana\", \"cherry\"} \t           <span style=\"color:red\">set</span>      \t\n",
    "### x = frozenset({\"apple\", \"banana\", \"cherry\"})  <span style=\"color:red\">frozenset</span>\t \t\n",
    "### x = True \t                                    <span style=\"color:red\">bool</span>     \t\n",
    "### x = b\"Hello\" \t                                  <span style=\"color:red\">bytes</span>   \t\n",
    "### x = bytearray(5) \t                          <span style=\"color:red\">bytearray</span>    \t\n",
    "### x = memoryview(bytes(5)) \t                  <span style=\"color:red\">memoryview</span>    \t\n",
    "### x = None \t                                 <span style=\"color:red\">NoneType</span>     "
   ]
  },
  {
   "attachments": {},
   "cell_type": "markdown",
   "metadata": {},
   "source": [
    "# Setting the Specific Data Type\n",
    "\n",
    "If you want to specify the data type, you can use the following constructor functions:\n",
    "Example \tData Type \tTry it\n",
    "### x = str(\"Hello World\") \t <span style=\"color:red\">str</span>\t\n",
    "### x = int(20) \t \t<span style=\"color:red\">int</span>\n",
    "### x = float(20.5) \t \t<span style=\"color:red\">float</span>\n",
    "### x = complex(1j) \t \t<span style=\"color:red\">complex</span>\n",
    "### x = list((\"apple\", \"banana\", \"cherry\")) \t <span style=\"color:red\">list</span>\t\n",
    "### x = tuple((\"apple\", \"banana\", \"cherry\")) \t\t<span style=\"color:red\">tuple</span>\n",
    "### x = range(6) \t \t<span style=\"color:red\">range</span> \n",
    "### x = dict(name=\"John\", age=36) \t\t<span style=\"color:red\">dict</span>\n",
    "### x = set((\"apple\", \"banana\", \"cherry\")) \t \t<span style=\"color:red\">set</span>\n",
    "### x = frozenset((\"apple\", \"banana\", \"cherry\")) \t \t<span style=\"color:red\">frozenset</span>\n",
    "### x = bool(5) \t \t<span style=\"color:red\">bool</span>\n",
    "### x = bytes(5) \t \t<span style=\"color:red\">bytes</span>\n",
    "### x = bytearray(5) \t \t<span style=\"color:red\">bytearray</span>\n",
    "### x = memoryview(bytes(5)) \t <span style=\"color:red\">memoryview</span>"
   ]
  },
  {
   "cell_type": "markdown",
   "metadata": {},
   "source": []
  }
 ],
 "metadata": {
  "kernelspec": {
   "display_name": "Python 3",
   "language": "python",
   "name": "python3"
  },
  "language_info": {
   "name": "python",
   "version": "3.10.8 (tags/v3.10.8:aaaf517, Oct 11 2022, 16:50:30) [MSC v.1933 64 bit (AMD64)]"
  },
  "orig_nbformat": 4,
  "vscode": {
   "interpreter": {
    "hash": "47159ae423ed0c72e525e520c563167e90f1cccdcf20746f47668e4f800c48f4"
   }
  }
 },
 "nbformat": 4,
 "nbformat_minor": 2
}
